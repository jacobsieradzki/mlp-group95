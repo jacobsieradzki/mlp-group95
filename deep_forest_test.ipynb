{
 "cells": [
  {
   "cell_type": "code",
   "execution_count": 4,
   "metadata": {},
   "outputs": [],
   "source": [
    "from deepforest import main\n",
    "from deepforest import get_data\n",
    "import os\n",
    "import matplotlib.pyplot as plt\n",
    "import matplotlib.image as mpimg\n",
    "from datetime import datetime\n",
    "from PIL import Image"
   ]
  },
  {
   "cell_type": "code",
   "execution_count": 5,
   "metadata": {},
   "outputs": [
    {
     "name": "stdout",
     "output_type": "stream",
     "text": [
      "Reading config file: /Users/jacobsieradzki/miniconda3/envs/mlp/lib/python3.9/site-packages/deepforest/data/deepforest_config.yml\n",
      "Model from DeepForest release https://github.com/weecology/DeepForest/releases/tag/1.0.0 was already downloaded. Loading model from file.\n",
      "Loading pre-built model: https://github.com/weecology/DeepForest/releases/tag/1.0.0\n"
     ]
    }
   ],
   "source": [
    "model = main.deepforest()\n",
    "model.use_release()"
   ]
  },
  {
   "cell_type": "code",
   "execution_count": 6,
   "metadata": {},
   "outputs": [],
   "source": [
    "def perform(img_path, new_path=None):\n",
    "  img = model.predict_tile(img_path, return_plot=True)\n",
    "  if new_path:\n",
    "    plt.imsave(new_path, img)\n",
    "\n",
    "\n",
    "def run_in_dir(input_dir, output_dir):\n",
    "  filenames = [f for f in os.listdir(input_dir) if os.path.isfile(os.path.join(input_dir, f)) and f.endswith('.png')]\n",
    "  filenames.sort()\n",
    "  for filename in filenames[0:20]:\n",
    "    print('>>> Performing...', filename)\n",
    "    t1 = datetime.now()\n",
    "    perform(input_dir + filename, output_dir + filename)\n",
    "    duration = datetime.now() - t1\n",
    "    print('Done in ' + str(duration) + 's')"
   ]
  },
  {
   "cell_type": "code",
   "execution_count": 16,
   "metadata": {},
   "outputs": [],
   "source": [
    "# ORIGINAL_DIR = \"./tests/meadows/crop_tiles/\"\n",
    "# NEW_DIR = \"./tests/meadows/deep_forest/\"\n",
    "\n",
    "# run_in_dir(ORIGINAL_DIR, NEW_DIR)"
   ]
  },
  {
   "cell_type": "code",
   "execution_count": null,
   "metadata": {},
   "outputs": [],
   "source": [
    "perform('./stitched/uni.png', new_path='./stitched/uni-dp.png')"
   ]
  },
  {
   "cell_type": "code",
   "execution_count": 7,
   "metadata": {},
   "outputs": [
    {
     "name": "stderr",
     "output_type": "stream",
     "text": [
      "/Users/jacobsieradzki/miniconda3/envs/mlp/lib/python3.9/site-packages/rasterio/__init__.py:220: NotGeoreferencedWarning: Dataset has no geotransform, gcps, or rpcs. The identity matrix be returned.\n",
      "  s = DatasetReader(path, driver=driver, sharing=sharing, **kwargs)\n",
      "  0%|          | 0/10560 [00:00<?, ?it/s]/Users/jacobsieradzki/miniconda3/envs/mlp/lib/python3.9/site-packages/torch/functional.py:445: UserWarning: torch.meshgrid: in an upcoming release, it will be required to pass the indexing argument. (Triggered internally at  ../aten/src/ATen/native/TensorShape.cpp:2157.)\n",
      "  return _VF.meshgrid(tensors, **kwargs)  # type: ignore[attr-defined]\n",
      "100%|██████████| 10560/10560 [9:15:05<00:00,  3.15s/it] \n"
     ]
    },
    {
     "name": "stdout",
     "output_type": "stream",
     "text": [
      "146459 predictions in overlapping windows, applying non-max supression\n",
      "129674 predictions kept after non-max suppression\n"
     ]
    }
   ],
   "source": [
    "perform('./stitched/FULL.png', new_path='./stitched/FULL-dp.png')"
   ]
  }
 ],
 "metadata": {
  "interpreter": {
   "hash": "d2e29667e0283e56d00276a8bca40226be446ffde1fc3fb35a300517f5b50331"
  },
  "kernelspec": {
   "display_name": "Python 3.9.7 ('inf-project-server')",
   "language": "python",
   "name": "python3"
  },
  "language_info": {
   "codemirror_mode": {
    "name": "ipython",
    "version": 3
   },
   "file_extension": ".py",
   "mimetype": "text/x-python",
   "name": "python",
   "nbconvert_exporter": "python",
   "pygments_lexer": "ipython3",
   "version": "3.9.7"
  },
  "orig_nbformat": 4
 },
 "nbformat": 4,
 "nbformat_minor": 2
}
