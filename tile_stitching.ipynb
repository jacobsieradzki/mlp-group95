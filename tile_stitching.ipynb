{
 "cells": [
  {
   "cell_type": "code",
   "execution_count": 3,
   "metadata": {},
   "outputs": [],
   "source": [
    "import os\n",
    "from PIL import Image\n",
    "from matplotlib.pyplot import imshow"
   ]
  },
  {
   "cell_type": "code",
   "execution_count": 4,
   "metadata": {},
   "outputs": [],
   "source": [
    "BASE_URL = 'https://maps.googleapis.com/maps/api/staticmap'\n",
    "\n",
    "PROJ_DIR = './'\n",
    "TESTS_DIR = PROJ_DIR + 'tests/'\n",
    "RAW_TILES_PATH = 'raw_tiles/'\n",
    "CROP_TILES_PATH = 'crop_tiles/'"
   ]
  },
  {
   "cell_type": "code",
   "execution_count": 17,
   "metadata": {},
   "outputs": [],
   "source": [
    "def merge_images(images, rows: int, columns: int, size: float=None):\n",
    "    \"\"\"Merge two images into one, displayed side by side\n",
    "    :param images: PIL list of image files\n",
    "    :param rows: number of rows in grid\n",
    "    :param columns: number of columns in grid\n",
    "    :param image_width: pixel width of each tile\n",
    "    :param image_height: pixel height of each tile\n",
    "    :return: the merged Image object\n",
    "    \"\"\"\n",
    "    imgs = images.copy()\n",
    "    _row, _column = 0, 0\n",
    "\n",
    "    (_image_width, _image_height) = images[0].size\n",
    "    image_width = size or _image_width\n",
    "    image_height = size or _image_height\n",
    "\n",
    "    result = Image.new('RGB', (rows*image_width, columns*image_height))\n",
    "    \n",
    "    while len(imgs) > 0:\n",
    "      img = imgs.pop()\n",
    "      img.thumbnail((image_width, image_height), Image.ANTIALIAS)\n",
    "      result.paste(im=img, box=(_row*image_width, _column*image_height))\n",
    "\n",
    "      _row += 1\n",
    "      if _row >= rows:\n",
    "        _row = 0\n",
    "        _column += 1\n",
    "\n",
    "    return result\n",
    "\n",
    "\n",
    "def stitch_files(dir, rows: int, columns: int, tile_size: float=100):\n",
    "  filenames = [f for f in os.listdir(dir) if os.path.isfile(os.path.join(dir, f)) and f.endswith('.png')]\n",
    "  filenames.sort()\n",
    "  images = list(map(lambda x: Image.open(dir + x), filenames))\n",
    "  return merge_images(images, rows=rows, columns=columns, size=tile_size)"
   ]
  },
  {
   "cell_type": "code",
   "execution_count": null,
   "metadata": {},
   "outputs": [],
   "source": [
    "stitched = stitch_files(PROJ_DIR + 'tests/meadows/crop_tiles/')\n",
    "stitched.save(\"./output_100x100.png\", rows=20, columns=14)"
   ]
  },
  {
   "cell_type": "code",
   "execution_count": 19,
   "metadata": {},
   "outputs": [],
   "source": [
    "stitched = stitch_files(PROJ_DIR + 'tests/meadows/deep_forest/', rows=20, columns=1)\n",
    "stitched.save(\"./deep_forest.png\")"
   ]
  }
 ],
 "metadata": {
  "interpreter": {
   "hash": "3cbc70591ba8aaae60c023e4b0f03d7480b7a56ad3750290841431632cbd5ea8"
  },
  "kernelspec": {
   "display_name": "Python 3.9.7 ('mlp')",
   "language": "python",
   "name": "python3"
  },
  "language_info": {
   "codemirror_mode": {
    "name": "ipython",
    "version": 3
   },
   "file_extension": ".py",
   "mimetype": "text/x-python",
   "name": "python",
   "nbconvert_exporter": "python",
   "pygments_lexer": "ipython3",
   "version": "3.9.7"
  },
  "orig_nbformat": 4
 },
 "nbformat": 4,
 "nbformat_minor": 2
}
